{
 "cells": [
  {
   "cell_type": "code",
   "execution_count": 100,
   "metadata": {},
   "outputs": [],
   "source": [
    "# Import dependencies\n",
    "from sklearn.feature_extraction.text import TfidfVectorizer\n",
    "from sklearn.svm import LinearSVC\n",
    "from sklearn.model_selection import StratifiedKFold\n",
    "from sklearn.metrics import accuracy_score, precision_score, recall_score\n",
    "from sklearn.svm import LinearSVC\n",
    "from sklearn.feature_extraction.text import TfidfVectorizer\n",
    "from sklearn.pipeline import Pipeline\n",
    "import pandas as pd\n",
    "import joblib"
   ]
  },
  {
   "cell_type": "code",
   "execution_count": 101,
   "metadata": {},
   "outputs": [
    {
     "name": "stdout",
     "output_type": "stream",
     "text": [
      "                                          Question List\n",
      "0                            completionHistory_question\n",
      "1                                   \"Internet mati nih\"\n",
      "2                                \"Harga STB berapa ya?\"\n",
      "3                         \"Internet saya putus sambung\"\n",
      "4     \"Mengapa saya tidak dapat mengisi formulir rel...\n",
      "...                                                 ...\n",
      "1995                              \"harga modem berapa?\"\n",
      "1996                  \"kapan mybiznet ada di appstore?\"\n",
      "1997  \"Saya tidak bisa melakukan pembayaran melalui ...\n",
      "1998            \"untuk promo biznet home ada apa saja?\"\n",
      "1999  \"Min internet saya putus sambung dari sore tad...\n",
      "\n",
      "[2000 rows x 1 columns]\n"
     ]
    }
   ],
   "source": [
    "# Load Data\n",
    "\n",
    "data = pd.read_csv('question_list.csv')\n",
    "print(data)"
   ]
  },
  {
   "cell_type": "code",
   "execution_count": 102,
   "metadata": {},
   "outputs": [
    {
     "data": {
      "text/html": [
       "<div>\n",
       "<style scoped>\n",
       "    .dataframe tbody tr th:only-of-type {\n",
       "        vertical-align: middle;\n",
       "    }\n",
       "\n",
       "    .dataframe tbody tr th {\n",
       "        vertical-align: top;\n",
       "    }\n",
       "\n",
       "    .dataframe thead th {\n",
       "        text-align: right;\n",
       "    }\n",
       "</style>\n",
       "<table border=\"1\" class=\"dataframe\">\n",
       "  <thead>\n",
       "    <tr style=\"text-align: right;\">\n",
       "      <th></th>\n",
       "      <th>Question List</th>\n",
       "    </tr>\n",
       "  </thead>\n",
       "  <tbody>\n",
       "    <tr>\n",
       "      <th>count</th>\n",
       "      <td>2000</td>\n",
       "    </tr>\n",
       "    <tr>\n",
       "      <th>unique</th>\n",
       "      <td>1761</td>\n",
       "    </tr>\n",
       "    <tr>\n",
       "      <th>top</th>\n",
       "      <td>\"mau beli quota\"</td>\n",
       "    </tr>\n",
       "    <tr>\n",
       "      <th>freq</th>\n",
       "      <td>16</td>\n",
       "    </tr>\n",
       "  </tbody>\n",
       "</table>\n",
       "</div>"
      ],
      "text/plain": [
       "           Question List\n",
       "count               2000\n",
       "unique              1761\n",
       "top     \"mau beli quota\"\n",
       "freq                  16"
      ]
     },
     "execution_count": 102,
     "metadata": {},
     "output_type": "execute_result"
    }
   ],
   "source": [
    "# Overview Data\n",
    "\n",
    "data.describe()"
   ]
  },
  {
   "cell_type": "code",
   "execution_count": 103,
   "metadata": {},
   "outputs": [
    {
     "data": {
      "text/plain": [
       "239"
      ]
     },
     "execution_count": 103,
     "metadata": {},
     "output_type": "execute_result"
    }
   ],
   "source": [
    "# Cek data yang duplikat\n",
    "\n",
    "data.duplicated(subset='Question List').sum()"
   ]
  },
  {
   "cell_type": "code",
   "execution_count": 104,
   "metadata": {},
   "outputs": [
    {
     "data": {
      "text/html": [
       "<div>\n",
       "<style scoped>\n",
       "    .dataframe tbody tr th:only-of-type {\n",
       "        vertical-align: middle;\n",
       "    }\n",
       "\n",
       "    .dataframe tbody tr th {\n",
       "        vertical-align: top;\n",
       "    }\n",
       "\n",
       "    .dataframe thead th {\n",
       "        text-align: right;\n",
       "    }\n",
       "</style>\n",
       "<table border=\"1\" class=\"dataframe\">\n",
       "  <thead>\n",
       "    <tr style=\"text-align: right;\">\n",
       "      <th></th>\n",
       "      <th>Question List</th>\n",
       "    </tr>\n",
       "  </thead>\n",
       "  <tbody>\n",
       "    <tr>\n",
       "      <th>count</th>\n",
       "      <td>1761</td>\n",
       "    </tr>\n",
       "    <tr>\n",
       "      <th>unique</th>\n",
       "      <td>1761</td>\n",
       "    </tr>\n",
       "    <tr>\n",
       "      <th>top</th>\n",
       "      <td>completionHistory_question</td>\n",
       "    </tr>\n",
       "    <tr>\n",
       "      <th>freq</th>\n",
       "      <td>1</td>\n",
       "    </tr>\n",
       "  </tbody>\n",
       "</table>\n",
       "</div>"
      ],
      "text/plain": [
       "                     Question List\n",
       "count                         1761\n",
       "unique                        1761\n",
       "top     completionHistory_question\n",
       "freq                             1"
      ]
     },
     "execution_count": 104,
     "metadata": {},
     "output_type": "execute_result"
    }
   ],
   "source": [
    "# Hapus data duplikat\n",
    "\n",
    "data_unique = data.drop_duplicates(subset='Question List').reset_index(drop=True)\n",
    "data_unique.describe()"
   ]
  },
  {
   "cell_type": "code",
   "execution_count": 105,
   "metadata": {},
   "outputs": [
    {
     "name": "stdout",
     "output_type": "stream",
     "text": [
      "<class 'pandas.core.frame.DataFrame'>\n",
      "RangeIndex: 1761 entries, 0 to 1760\n",
      "Data columns (total 1 columns):\n",
      " #   Column         Non-Null Count  Dtype \n",
      "---  ------         --------------  ----- \n",
      " 0   Question List  1761 non-null   object\n",
      "dtypes: object(1)\n",
      "memory usage: 13.9+ KB\n"
     ]
    }
   ],
   "source": [
    "# Cek data\n",
    "\n",
    "data_unique.info()"
   ]
  },
  {
   "cell_type": "code",
   "execution_count": 106,
   "metadata": {},
   "outputs": [
    {
     "data": {
      "text/html": [
       "<div>\n",
       "<style scoped>\n",
       "    .dataframe tbody tr th:only-of-type {\n",
       "        vertical-align: middle;\n",
       "    }\n",
       "\n",
       "    .dataframe tbody tr th {\n",
       "        vertical-align: top;\n",
       "    }\n",
       "\n",
       "    .dataframe thead th {\n",
       "        text-align: right;\n",
       "    }\n",
       "</style>\n",
       "<table border=\"1\" class=\"dataframe\">\n",
       "  <thead>\n",
       "    <tr style=\"text-align: right;\">\n",
       "      <th></th>\n",
       "      <th>Question List</th>\n",
       "    </tr>\n",
       "  </thead>\n",
       "  <tbody>\n",
       "    <tr>\n",
       "      <th>1</th>\n",
       "      <td>\"Internet mati nih\"</td>\n",
       "    </tr>\n",
       "    <tr>\n",
       "      <th>2</th>\n",
       "      <td>\"Harga STB berapa ya?\"</td>\n",
       "    </tr>\n",
       "    <tr>\n",
       "      <th>3</th>\n",
       "      <td>\"Internet saya putus sambung\"</td>\n",
       "    </tr>\n",
       "    <tr>\n",
       "      <th>4</th>\n",
       "      <td>\"Mengapa saya tidak dapat mengisi formulir rel...</td>\n",
       "    </tr>\n",
       "    <tr>\n",
       "      <th>5</th>\n",
       "      <td>\"mengapa ketika ingin melakukan pembayaran tid...</td>\n",
       "    </tr>\n",
       "    <tr>\n",
       "      <th>...</th>\n",
       "      <td>...</td>\n",
       "    </tr>\n",
       "    <tr>\n",
       "      <th>1756</th>\n",
       "      <td>\"harga modem berapa?\"</td>\n",
       "    </tr>\n",
       "    <tr>\n",
       "      <th>1757</th>\n",
       "      <td>\"kapan mybiznet ada di appstore?\"</td>\n",
       "    </tr>\n",
       "    <tr>\n",
       "      <th>1758</th>\n",
       "      <td>\"Saya tidak bisa melakukan pembayaran melalui ...</td>\n",
       "    </tr>\n",
       "    <tr>\n",
       "      <th>1759</th>\n",
       "      <td>\"untuk promo biznet home ada apa saja?\"</td>\n",
       "    </tr>\n",
       "    <tr>\n",
       "      <th>1760</th>\n",
       "      <td>\"Min internet saya putus sambung dari sore tad...</td>\n",
       "    </tr>\n",
       "  </tbody>\n",
       "</table>\n",
       "<p>1760 rows × 1 columns</p>\n",
       "</div>"
      ],
      "text/plain": [
       "                                          Question List\n",
       "1                                   \"Internet mati nih\"\n",
       "2                                \"Harga STB berapa ya?\"\n",
       "3                         \"Internet saya putus sambung\"\n",
       "4     \"Mengapa saya tidak dapat mengisi formulir rel...\n",
       "5     \"mengapa ketika ingin melakukan pembayaran tid...\n",
       "...                                                 ...\n",
       "1756                              \"harga modem berapa?\"\n",
       "1757                  \"kapan mybiznet ada di appstore?\"\n",
       "1758  \"Saya tidak bisa melakukan pembayaran melalui ...\n",
       "1759            \"untuk promo biznet home ada apa saja?\"\n",
       "1760  \"Min internet saya putus sambung dari sore tad...\n",
       "\n",
       "[1760 rows x 1 columns]"
      ]
     },
     "execution_count": 106,
     "metadata": {},
     "output_type": "execute_result"
    }
   ],
   "source": [
    "# Hapus kolom yang tidak berupa pesan\n",
    "\n",
    "data_filter = data_unique[data_unique['Question List'].str.contains('\"')]\n",
    "data_filter"
   ]
  },
  {
   "cell_type": "code",
   "execution_count": 107,
   "metadata": {},
   "outputs": [
    {
     "name": "stderr",
     "output_type": "stream",
     "text": [
      "C:\\Users\\HP\\AppData\\Local\\Temp\\ipykernel_11540\\1226307273.py:4: SettingWithCopyWarning: \n",
      "A value is trying to be set on a copy of a slice from a DataFrame.\n",
      "Try using .loc[row_indexer,col_indexer] = value instead\n",
      "\n",
      "See the caveats in the documentation: https://pandas.pydata.org/pandas-docs/stable/user_guide/indexing.html#returning-a-view-versus-a-copy\n",
      "  data_filter['question_list'] = data_filter['Question List'].str.replace('\"', '', regex=False)\n",
      "C:\\Users\\HP\\AppData\\Local\\Temp\\ipykernel_11540\\1226307273.py:24: SettingWithCopyWarning: \n",
      "A value is trying to be set on a copy of a slice from a DataFrame.\n",
      "Try using .loc[row_indexer,col_indexer] = value instead\n",
      "\n",
      "See the caveats in the documentation: https://pandas.pydata.org/pandas-docs/stable/user_guide/indexing.html#returning-a-view-versus-a-copy\n",
      "  data_filter['label'] = data_filter['question_list'].apply(auto_label)\n"
     ]
    },
    {
     "data": {
      "text/plain": [
       "'dataset_labeled.csv'"
      ]
     },
     "execution_count": 107,
     "metadata": {},
     "output_type": "execute_result"
    }
   ],
   "source": [
    "# Data Labeling secara manual\n",
    "\n",
    "# Ganti nama kolom\n",
    "data_filter['question_list'] = data_filter['Question List'].str.replace('\"', '', regex=False)\n",
    "\n",
    "# Fungsi data labeling\n",
    "def auto_label(text):\n",
    "    text = text.lower()\n",
    "    \n",
    "    info_keywords = ['harga', 'biaya', 'bayar', 'pembayaran', 'promo', 'paket apa', 'tagihan', 'produk', 'registrasi', 'cara', 'informasi', 'info', 'change']\n",
    "    request_keywords = ['mohon', 'tolong', 'minta', 'ganti', 'kirim', 'relokasi', 'terminasi', 'reset', 'cek area', 'instalasi', 'butuh', 'ingin', 'request', 'bisa dibantu']\n",
    "    problem_keywords = ['lemot', 'lambat', 'putus', 'tidak bisa', 'masalah', 'error', 'modem', 'router', 'kuota', 'mati', 'gangguan', 'trouble', 'los']\n",
    "\n",
    "    if any(kw in text for kw in info_keywords):\n",
    "        return 'Information'\n",
    "    elif any(kw in text for kw in request_keywords):\n",
    "        return 'Request'\n",
    "    elif any(kw in text for kw in problem_keywords):\n",
    "        return 'Problem'\n",
    "    else:\n",
    "        return 'Unknown'\n",
    "\n",
    "# Terapkan label\n",
    "data_filter['label'] = data_filter['question_list'].apply(auto_label)\n",
    "\n",
    "# Simpan ke file baru\n",
    "output_path = \"dataset_labeled.csv\"\n",
    "data_filter[['question_list', 'label']].to_csv(output_path, index=False)\n",
    "\n",
    "output_path"
   ]
  },
  {
   "cell_type": "code",
   "execution_count": 108,
   "metadata": {},
   "outputs": [
    {
     "data": {
      "text/plain": [
       "Unknown        721\n",
       "Information    627\n",
       "Problem        247\n",
       "Request        165\n",
       "Name: label, dtype: int64"
      ]
     },
     "execution_count": 108,
     "metadata": {},
     "output_type": "execute_result"
    }
   ],
   "source": [
    "# Cek jumlah data berdasarkan labelnya\n",
    "\n",
    "data_labeled = pd.read_csv('dataset_labeled.csv')\n",
    "label_counts_clean = data_labeled['label'].value_counts()\n",
    "label_counts_clean"
   ]
  },
  {
   "cell_type": "code",
   "execution_count": 109,
   "metadata": {},
   "outputs": [
    {
     "data": {
      "text/plain": [
       "Information    627\n",
       "Problem        247\n",
       "Request        165\n",
       "Name: label, dtype: int64"
      ]
     },
     "execution_count": 109,
     "metadata": {},
     "output_type": "execute_result"
    }
   ],
   "source": [
    "# Hapus data dengan label Unknown\n",
    "data_clean = data_labeled[data_labeled['label'] != 'Unknown'].copy()\n",
    "\n",
    "# Reset indexnya supaya rapi\n",
    "data_clean.reset_index(drop=True, inplace=True)\n",
    "\n",
    "# Simpan file tanpa Unknown\n",
    "output_path_clean = \"dataset_labeled_clean.csv\"\n",
    "data_clean.to_csv(output_path_clean, index=False)\n",
    "\n",
    "# Cek jumlah data berdasarkan labelnya\n",
    "label_counts_clean = data_clean['label'].value_counts()\n",
    "label_counts_clean"
   ]
  },
  {
   "cell_type": "code",
   "execution_count": 110,
   "metadata": {},
   "outputs": [
    {
     "data": {
      "text/plain": [
       "(1039, 1026)"
      ]
     },
     "execution_count": 110,
     "metadata": {},
     "output_type": "execute_result"
    }
   ],
   "source": [
    "# Pembobotan data dengan TF-IDF dan stopwords\n",
    "\n",
    "# Siapkan fitur dan label\n",
    "X = data_clean['question_list']\n",
    "y = data_clean['label']\n",
    "\n",
    "# Inisialisasi dan transformasi TF-IDF dengan stopwords\n",
    "stop_words = ['yang', 'dan', 'di', 'ke', 'untuk', 'saya', 'apa', 'itu']\n",
    "vectorizer = TfidfVectorizer(stop_words=stop_words)\n",
    "X_vec = vectorizer.fit_transform(X)\n",
    "\n",
    "# Tampilkan bentuk hasil vektorisasi\n",
    "X_vec.shape"
   ]
  },
  {
   "cell_type": "code",
   "execution_count": 111,
   "metadata": {},
   "outputs": [
    {
     "data": {
      "text/plain": [
       "(array(['000', '0d', '0ds', '0dw', '10', '1000', '10003', '1000308564',\n",
       "        '10mbps', '12', '15', '150', '150mbps', '1d', '1dn', '1ds', '1dw',\n",
       "        '1g', '2024', '2025', '25', '2d', '2dn', '2ds', '2dw', '30', '3d',\n",
       "        '3dn', '3ds', '3dw', '45', '4ghz', '525', '5g', '5ghz', '6g',\n",
       "        'abis', 'account', 'ada', 'adanya', 'adaptor', 'add', 'address',\n",
       "        'adik', 'aga', 'agar', 'agent', 'aja', 'ajaa', 'ajuin', 'ajukan',\n",
       "        'akan', 'akhir', 'akibat', 'aklau', 'akses', 'aktif', 'aktifnya',\n",
       "        'aktit', 'aktivasi', 'aku', 'akun', 'akunnya', 'alamat', 'alatnya',\n",
       "        'alkun', 'aman', 'ambah', 'ambil', 'an', 'analyzer', 'anda',\n",
       "        'another', 'apaan', 'apabila', 'apakah', 'aplikasi', 'app', 'apps',\n",
       "        'area', 'ask', 'assisten', 'atas', 'atau', 'atik', 'auto',\n",
       "        'autodebet', 'available', 'awal', 'ayodance', 'bagai',\n",
       "        'bagaiamana', 'bagaimana', 'bagainmana', 'bagiamana', 'bagimana',\n",
       "        'baik', 'baiknya', 'bakal', 'bali', 'bandara', 'bandung',\n",
       "        'bandwidth', 'bandwidthnya', 'bandwodth', 'banget', 'bank',\n",
       "        'bantu', 'bantuan', 'bantuin', 'banyak', 'barat', 'baru', 'barun',\n",
       "        'barunya', 'batalkan', 'batam', 'batas', 'baut', 'bawah', 'bayar',\n",
       "        'bayarin', 'bayat', 'bca', 'beberapa', 'bedanya', 'begitu', 'beli',\n",
       "        'beliau', 'belinya', 'bella', 'belum', 'benar', 'benarnya',\n",
       "        'berakhir', 'berapa', 'beraps', 'berbayar', 'berbeda', 'berbicara',\n",
       "        'beres', 'berhari', 'berhari2', 'berhasil', 'berhenti', 'berikan',\n",
       "        'beritahu', 'berjalan', 'berkali', 'berkedip', 'berlaku',\n",
       "        'berlangganan', 'bermasalah', 'berpengaruh', 'bersamaan',\n",
       "        'bertambah', 'berubah', 'berwarna', 'besok', 'bhi', 'biar',\n",
       "        'biasanya', 'biasaya', 'biaya', 'biayanya', 'bilamana', 'billing',\n",
       "        'bingung', 'bisa', 'bizne', 'biznet', 'biznethome', 'biznetnya',\n",
       "        'blacklist', 'blank', 'blinking', 'bogor', 'boleh', 'bolej', 'bot',\n",
       "        'branch', 'bri', 'bridge', 'brp', 'brrapa', 'bs', 'bsi', 'bsia',\n",
       "        'buat', 'bukan', 'bukannya', 'bukti', 'bulan', 'bulanan',\n",
       "        'bundling', 'butuh', 'buy', 'cabang', 'cakupan', 'cancel', 'cara',\n",
       "        'caranya', 'card', 'cari', 'cctv', 'cek', 'ceknya', 'cepat',\n",
       "        'change', 'chromecast', 'cicil', 'coba', 'cocok', 'cocoknya',\n",
       "        'cok', 'com', 'communication', 'config', 'connection', 'contact',\n",
       "        'control', 'coverage', 'coy', 'cp', 'create', 'credit', 'cs',\n",
       "        'cukup', 'cuma', 'cuman', 'customer', 'daerah', 'daftar', 'dalam',\n",
       "        'dalung', 'danamon', 'dapat', 'dapatkan', 'dapet', 'dari',\n",
       "        'darimana', 'data', 'datang', 'ddns', 'debet', 'debit', 'deh',\n",
       "        'denda', 'dengan', 'depan', 'depok', 'desember', 'detail',\n",
       "        'device', 'diakses', 'diambil', 'diawal', 'dibantu', 'dibawa',\n",
       "        'dibawahnya', 'dibayar', 'dibayarkan', 'diberikan', 'dibulan',\n",
       "        'dibutuhkan', 'dicancel', 'dicek', 'didapatkan', 'diganti',\n",
       "        'digigit', 'digit', 'digunakan', 'digunkan', 'dihubungi',\n",
       "        'diinformasikan', 'dikarenakan', 'dikenakan', 'dikirim',\n",
       "        'dikirimkan', 'dikit', 'dilakukan', 'dilanjutkan', 'dilokasi',\n",
       "        'dimana', 'dinformasikan', 'dinpekan', 'dioptimalkan', 'dipakai',\n",
       "        'dipake', 'dipaket', 'diperlukan', 'diproses', 'direfund',\n",
       "        'direset', 'dirincikan', 'dirumah', 'disarankan', 'disebabkan',\n",
       "        'disediakan', 'disini', 'diskon', 'disney', 'disubmit',\n",
       "        'ditanggal', 'ditangguhkan', 'ditawarin', 'diterima', 'diterimasi',\n",
       "        'diterminasi', 'dititalin', 'diwnload', 'dns', 'do', 'doang',\n",
       "        'domana', 'dong', 'down', 'downgrade', 'download', 'dulu',\n",
       "        'dynamic', 'ekstra', 'email', 'emang', 'emial', 'engga', 'error',\n",
       "        'estimasi', 'extender', 'external', 'extra', 'factory', 'fiber',\n",
       "        'flat', 'form', 'formulir', 'free', 'frekuensi', 'fungsi', 'fup',\n",
       "        'ga', 'gabisa', 'gacor', 'gak', 'game', 'gamers', 'gangguan',\n",
       "        'ganti', 'gapunya', 'garansi', 'garasi', 'gemana', 'genana',\n",
       "        'geser', 'gimaa', 'gimana', 'gitu', 'gk', 'gmn', 'gmna', 'google',\n",
       "        'gua', 'gunakan', 'habis', 'hal', 'hallo', 'halo', 'hangus',\n",
       "        'hanya', 'harga', 'harganya', 'hari', 'harnganya', 'harus',\n",
       "        'hasan', 'hatta', 'have', 'help', 'hi', 'hilang', 'hingga', 'home',\n",
       "        'hotstar', 'hp', 'hutang', 'huwawei', 'id', 'ideal', 'identitas',\n",
       "        'idnya', 'ikut', 'indikasinya', 'indikator', 'inet', 'inetnya',\n",
       "        'info', 'infonya', 'informaisnya', 'informasi', 'informasikan',\n",
       "        'ingin', 'ini', 'instalasi', 'install', 'installasi', 'internet',\n",
       "        'internetnya', 'internya', 'invoice', 'inwt', 'ip', 'iptv', 'isi',\n",
       "        'isp', 'iya', 'jadi', 'jadwal', 'jakarta', 'jalur', 'jam',\n",
       "        'jaminan', 'jangakuan', 'jangkauan', 'janji', 'jarak', 'jaringan',\n",
       "        'jatoh', 'jauh', 'jawa', 'jelaskan', 'jika', 'jl', 'jonggol',\n",
       "        'jual', 'jualan', 'juga', 'jumat', 'jumlah', 'ka', 'kabel', 'kak',\n",
       "        'kalau', 'kali', 'kalo', 'kalok', 'kami', 'kan', 'kapan', 'karena',\n",
       "        'karna', 'kartu', 'kasih', 'katanya', 'kaun', 'kaya', 'kebutuhan',\n",
       "        'kedepannnya', 'kelebihan', 'kelokasi', 'keluar', 'keluarkan',\n",
       "        'kelurahan', 'kemahalan', 'kemana', 'kemarin', 'kembali', 'kena',\n",
       "        'kenak', 'kenakan', 'kenapa', 'kendala', 'kepemilikan',\n",
       "        'keperluan', 'kerusakan', 'kesalahan', 'ketentuan',\n",
       "        'keterangannya', 'keterlambatan', 'ketika', 'keuangan',\n",
       "        'keuntungan', 'khusus', 'kira', 'kirim', 'kirimin', 'kirimkan',\n",
       "        'kita', 'klaok', 'klo', 'kode', 'kompensasi', 'kompliment',\n",
       "        'kondisi', 'konek', 'koneksi', 'koneksinya', 'konfirgurasi',\n",
       "        'konfirmasi', 'kontak', 'kontrak', 'kosan', 'kota', 'kouat',\n",
       "        'kouta', 'kredit', 'kunjungan', 'kuota', 'kurang', 'lagi', 'lah',\n",
       "        'lain', 'lainnya', 'lakukan', 'lalu', 'lama', 'lambat', 'lamp',\n",
       "        'lampu', 'lampung', 'lan', 'langganan', 'langkah', 'langkahnya',\n",
       "        'langsung', 'lantai', 'laptop', 'layanan', 'layanannya', 'lebih',\n",
       "        'lemot', 'lengkap', 'lewat', 'liat', 'lihat', 'linknya', 'live',\n",
       "        'livin', 'login', 'lokal', 'lokasi', 'los', 'loss', 'lu', 'luar',\n",
       "        'macbook', 'mai', 'mail', 'main', 'maka', 'make', 'maksimal',\n",
       "        'maksudnya', 'malam', 'mamual', 'mana', 'manado', 'mandiri',\n",
       "        'manual', 'mas', 'masa', 'masalah', 'masih', 'masing', 'massal',\n",
       "        'masuk', 'masuk2', 'mati', 'mau', 'maunya', 'maut', 'mbps', 'me',\n",
       "        'meah', 'mebbunakan', 'melakukan', 'melalui', 'melihat',\n",
       "        'memanggil', 'memasangkan', 'memasukan', 'membatasi', 'membayar',\n",
       "        'membayarkan', 'membeli', 'memberhentikan', 'memblokir', 'membuat',\n",
       "        'membuka', 'membutuhkan', 'membwa', 'memerlukan', 'memiliki',\n",
       "        'memindahkan', 'mempercepat', 'memperluas', 'menambah',\n",
       "        'menambahakan', 'menambahkan', 'menanyakan', 'menarik', 'mencakup',\n",
       "        'mendaftarkan', 'mendapatkan', 'menemukan', 'menerima',\n",
       "        'mengajukan', 'mengaktifkan', 'mengakumulasikan', 'mengambil',\n",
       "        'mengapa', 'mengatasi', 'mengatasinya', 'mengatur', 'mengecek',\n",
       "        'mengetahui', 'mengetaui', 'mengganti', 'menggunakan',\n",
       "        'menghanguskan', 'menghubungi', 'mengikuti', 'mengisi', 'menjadi',\n",
       "        'menjual', 'menu', 'menunggu', 'menyala', 'menyedaiakan',\n",
       "        'menyediakan', 'menyewa', 'merah', 'merahnya', 'meriah', 'merk',\n",
       "        'merubah', 'mesh', 'meter', 'metode', 'metronet', 'min', 'minta',\n",
       "        'misal', 'mo', 'modam', 'mode', 'modem', 'modemnya', 'mohon',\n",
       "        'msh', 'mulai', 'mulu', 'murah', 'my', 'mybiznet', 'nama',\n",
       "        'nambah', 'namun', 'nanti', 'nantinya', 'nanya', 'nat', 'net',\n",
       "        'ngak', 'ngapain', 'ngga', 'nggak', 'nggk', 'ni', 'nih', 'no',\n",
       "        'nominal', 'nomor', 'nomornya', 'non', 'normal', 'nusa', 'nya',\n",
       "        'nyala', 'nyambung', 'oakek', 'oi', 'oje', 'ok', 'oke', 'oleh',\n",
       "        'on', 'optimalkan', 'orang', 'order', 'otak', 'over', 'ow', 'owh',\n",
       "        'package', 'packet', 'pada', 'padahal', 'pagi', 'pajak', 'pakai',\n",
       "        'pake', 'paket', 'paling', 'panjang', 'parameter', 'parental',\n",
       "        'pasang', 'pasca', 'password', 'pastinya', 'payment', 'pc',\n",
       "        'pelanggan', 'pemakaian', 'pemasangan', 'pemasangannya',\n",
       "        'pembayaran', 'pembayarannya', 'pembelian', 'pemisahan',\n",
       "        'pemutusan', 'penalti', 'penalty', 'penambahan', 'pendaftaran',\n",
       "        'pengaduan', 'pengajuan', 'pengambilan', 'pengaturan',\n",
       "        'pengecekan', 'pengen', 'pengguna', 'penggunaan', 'penggunanya',\n",
       "        'pengisian', 'penjadwalan', 'penjelasan', 'penyebab', 'per',\n",
       "        'perangkat', 'perapihan', 'perbaikan', 'perbaikannya', 'perbedaan',\n",
       "        'perbulan', 'pergantian', 'perihal', 'perlu', 'perluasan',\n",
       "        'permintaan', 'pernah', 'perpanjang', 'perpanjangan',\n",
       "        'perpindahan', 'pertahun', 'perubahan', 'petugas', 'pilhannya',\n",
       "        'pilih', 'pinalti', 'pinalty', 'pinati', 'pindah', 'pindahin',\n",
       "        'ping', 'pkek', 'playstation', 'please', 'pon', 'port', 'power',\n",
       "        'ppn', 'prangkat', 'pribadi', 'pricelist', 'produk', 'promo',\n",
       "        'promonya', 'prooo', 'prosedur', 'proses', 'prosesnya',\n",
       "        'prtosedur', 'psn', 'pt', 'public', 'pulau', 'putus', 'pw',\n",
       "        'quota', 'ranah', 'recomended', 'red', 'refund', 'registrasi',\n",
       "        'rekomendasi', 'rekoneksi', 'relokasi', 'reloksi', 'reminder',\n",
       "        'remote', 'rent', 'rental', 'request', 'reset', 'resetnya',\n",
       "        'restart', 'router', 'ruangan', 'rubah', 'rumah', 'rusak', 'saat',\n",
       "        'saja', 'sajya', 'salah', 'sales', 'sama', 'sambung', 'sampai',\n",
       "        'sampe', 'sangat', 'saran', 'satu', 'sayang', 'sayarat', 'sebagai',\n",
       "        'sebaiknya', 'sebelah', 'sebelum', 'sebelumnya', 'sebulan',\n",
       "        'sebutkan', 'secara', 'sedang', 'segmentasi', 'seharusnya',\n",
       "        'sejak', 'sekali', 'sekaligus', 'sekarang', 'sekat', 'sekrang',\n",
       "        'selain', 'selama', 'selatan', 'seluruh', 'semalam', 'sembunyikan',\n",
       "        'sempet', 'semua', 'sendiri', 'seperti', 'sering', 'server',\n",
       "        'service', 'sesuai', 'setelah', 'setiap', 'setting', 'sewa',\n",
       "        'should', 'sih', 'sini', 'sinyal', 'sisa', 'sisi', 'sistem',\n",
       "        'skema', 'skrg', 'smtp', 'sn', 'soalnya', 'soekarno', 'solusi',\n",
       "        'solusinya', 'sore', 'speed', 'spesial', 'sponsopship',\n",
       "        'sponsorship', 'ssid', 'stabil', 'static', 'status', 'stb', 'stop',\n",
       "        'store', 'sudah', 'suhu', 'suka', 'sulawesi', 'sumatera',\n",
       "        'sumatra', 'support', 'surabaya', 'syarat', 'syaratnya', 'tadi',\n",
       "        'tagihan'], dtype=object),\n",
       " 1026)"
      ]
     },
     "execution_count": 111,
     "metadata": {},
     "output_type": "execute_result"
    }
   ],
   "source": [
    "# Cek kamus kata dalam data\n",
    "\n",
    "vocab_list = vectorizer.get_feature_names_out()\n",
    "vocab_preview = vocab_list[:900]\n",
    "\n",
    "vocab_preview, len(vocab_list)"
   ]
  },
  {
   "cell_type": "code",
   "execution_count": 112,
   "metadata": {},
   "outputs": [
    {
     "data": {
      "text/plain": [
       "[{'Fold': 1,\n",
       "  'Train size': 831,\n",
       "  'Test size': 208,\n",
       "  'Label distribusi train': {'Information': 502,\n",
       "   'Problem': 197,\n",
       "   'Request': 132},\n",
       "  'Label distribusi test': {'Information': 125, 'Problem': 50, 'Request': 33}},\n",
       " {'Fold': 2,\n",
       "  'Train size': 831,\n",
       "  'Test size': 208,\n",
       "  'Label distribusi train': {'Information': 502,\n",
       "   'Problem': 197,\n",
       "   'Request': 132},\n",
       "  'Label distribusi test': {'Information': 125, 'Problem': 50, 'Request': 33}},\n",
       " {'Fold': 3,\n",
       "  'Train size': 831,\n",
       "  'Test size': 208,\n",
       "  'Label distribusi train': {'Information': 501,\n",
       "   'Problem': 198,\n",
       "   'Request': 132},\n",
       "  'Label distribusi test': {'Information': 126, 'Problem': 49, 'Request': 33}},\n",
       " {'Fold': 4,\n",
       "  'Train size': 831,\n",
       "  'Test size': 208,\n",
       "  'Label distribusi train': {'Information': 501,\n",
       "   'Problem': 198,\n",
       "   'Request': 132},\n",
       "  'Label distribusi test': {'Information': 126, 'Problem': 49, 'Request': 33}},\n",
       " {'Fold': 5,\n",
       "  'Train size': 832,\n",
       "  'Test size': 207,\n",
       "  'Label distribusi train': {'Information': 502,\n",
       "   'Problem': 198,\n",
       "   'Request': 132},\n",
       "  'Label distribusi test': {'Information': 125, 'Problem': 49, 'Request': 33}}]"
      ]
     },
     "execution_count": 112,
     "metadata": {},
     "output_type": "execute_result"
    }
   ],
   "source": [
    "# Inisialisasi StratifiedKFold (agar pendistribusian merata dan memiliki 5 fold)\n",
    "skf = StratifiedKFold(n_splits=5, shuffle=True, random_state=42)\n",
    "\n",
    "# Loop dan simpan index train/test tiap fold\n",
    "folds_info = []\n",
    "for fold, (train_idx, test_idx) in enumerate(skf.split(X_vec, y), 1):\n",
    "    folds_info.append({\n",
    "        'Fold': fold,\n",
    "        'Train size': len(train_idx),\n",
    "        'Test size': len(test_idx),\n",
    "        'Label distribusi train': y.iloc[train_idx].value_counts().to_dict(),\n",
    "        'Label distribusi test': y.iloc[test_idx].value_counts().to_dict()\n",
    "    })\n",
    "\n",
    "folds_info"
   ]
  },
  {
   "cell_type": "code",
   "execution_count": 113,
   "metadata": {},
   "outputs": [
    {
     "data": {
      "text/html": [
       "<div>\n",
       "<style scoped>\n",
       "    .dataframe tbody tr th:only-of-type {\n",
       "        vertical-align: middle;\n",
       "    }\n",
       "\n",
       "    .dataframe tbody tr th {\n",
       "        vertical-align: top;\n",
       "    }\n",
       "\n",
       "    .dataframe thead th {\n",
       "        text-align: right;\n",
       "    }\n",
       "</style>\n",
       "<table border=\"1\" class=\"dataframe\">\n",
       "  <thead>\n",
       "    <tr style=\"text-align: right;\">\n",
       "      <th></th>\n",
       "      <th>Fold</th>\n",
       "      <th>Accuracy</th>\n",
       "      <th>Precision (macro)</th>\n",
       "      <th>Recall (macro)</th>\n",
       "    </tr>\n",
       "  </thead>\n",
       "  <tbody>\n",
       "    <tr>\n",
       "      <th>0</th>\n",
       "      <td>1</td>\n",
       "      <td>0.966346</td>\n",
       "      <td>0.963845</td>\n",
       "      <td>0.940162</td>\n",
       "    </tr>\n",
       "    <tr>\n",
       "      <th>1</th>\n",
       "      <td>2</td>\n",
       "      <td>0.937500</td>\n",
       "      <td>0.919865</td>\n",
       "      <td>0.920162</td>\n",
       "    </tr>\n",
       "    <tr>\n",
       "      <th>2</th>\n",
       "      <td>3</td>\n",
       "      <td>0.932692</td>\n",
       "      <td>0.910503</td>\n",
       "      <td>0.878376</td>\n",
       "    </tr>\n",
       "    <tr>\n",
       "      <th>3</th>\n",
       "      <td>4</td>\n",
       "      <td>0.942308</td>\n",
       "      <td>0.916315</td>\n",
       "      <td>0.919364</td>\n",
       "    </tr>\n",
       "    <tr>\n",
       "      <th>4</th>\n",
       "      <td>5</td>\n",
       "      <td>0.937198</td>\n",
       "      <td>0.920210</td>\n",
       "      <td>0.904183</td>\n",
       "    </tr>\n",
       "    <tr>\n",
       "      <th>5</th>\n",
       "      <td>Average</td>\n",
       "      <td>0.943209</td>\n",
       "      <td>0.926148</td>\n",
       "      <td>0.912449</td>\n",
       "    </tr>\n",
       "  </tbody>\n",
       "</table>\n",
       "</div>"
      ],
      "text/plain": [
       "      Fold  Accuracy  Precision (macro)  Recall (macro)\n",
       "0        1  0.966346           0.963845        0.940162\n",
       "1        2  0.937500           0.919865        0.920162\n",
       "2        3  0.932692           0.910503        0.878376\n",
       "3        4  0.942308           0.916315        0.919364\n",
       "4        5  0.937198           0.920210        0.904183\n",
       "5  Average  0.943209           0.926148        0.912449"
      ]
     },
     "execution_count": 113,
     "metadata": {},
     "output_type": "execute_result"
    }
   ],
   "source": [
    "# Latih model dan evaluasi tiap fold\n",
    "results = []\n",
    "for fold, (train_idx, test_idx) in enumerate(skf.split(X_vec, y), 1):\n",
    "    X_train, X_test = X_vec[train_idx], X_vec[test_idx]\n",
    "    y_train, y_test = y.iloc[train_idx], y.iloc[test_idx]\n",
    "\n",
    "    model = LinearSVC()\n",
    "    model.fit(X_train, y_train)\n",
    "    y_pred = model.predict(X_test)\n",
    "\n",
    "    results.append({\n",
    "        'Fold': fold,\n",
    "        'Accuracy': accuracy_score(y_test, y_pred),\n",
    "        'Precision (macro)': precision_score(y_test, y_pred, average='macro'),\n",
    "        'Recall (macro)': recall_score(y_test, y_pred, average='macro')\n",
    "    })\n",
    "\n",
    "# Konversi ke DataFrame\n",
    "results_final = pd.DataFrame(results)\n",
    "\n",
    "# Tambahkan baris average\n",
    "average_row = {\n",
    "    'Fold': 'Average',\n",
    "    'Accuracy': results_final['Accuracy'].mean(),\n",
    "    'Precision (macro)': results_final['Precision (macro)'].mean(),\n",
    "    'Recall (macro)': results_final['Recall (macro)'].mean()\n",
    "}\n",
    "\n",
    "results_final = pd.concat([results_final, pd.DataFrame([average_row])], ignore_index=True)\n",
    "\n",
    "results_final\n"
   ]
  },
  {
   "cell_type": "code",
   "execution_count": 114,
   "metadata": {},
   "outputs": [
    {
     "data": {
      "text/plain": [
       "['text_classifier_pipeline.pkl']"
      ]
     },
     "execution_count": 114,
     "metadata": {},
     "output_type": "execute_result"
    }
   ],
   "source": [
    "# Buat pipeline yang gabungkan TF-IDF dan model klasifikasi\n",
    "text_clf = Pipeline([\n",
    "    ('tfidf', TfidfVectorizer(stop_words=stop_words)),\n",
    "    ('clf', LinearSVC())\n",
    "])\n",
    "\n",
    "# Latih pipeline\n",
    "text_clf.fit(X, y)\n",
    "\n",
    "# Simpan pipeline ke file tunggal\n",
    "joblib.dump(text_clf, 'text_classifier_pipeline.pkl')"
   ]
  }
 ],
 "metadata": {
  "kernelspec": {
   "display_name": "Python 3",
   "language": "python",
   "name": "python3"
  },
  "language_info": {
   "codemirror_mode": {
    "name": "ipython",
    "version": 3
   },
   "file_extension": ".py",
   "mimetype": "text/x-python",
   "name": "python",
   "nbconvert_exporter": "python",
   "pygments_lexer": "ipython3",
   "version": "3.9.7"
  }
 },
 "nbformat": 4,
 "nbformat_minor": 2
}
